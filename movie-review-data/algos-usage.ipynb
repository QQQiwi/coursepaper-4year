{
 "cells": [
  {
   "cell_type": "code",
   "execution_count": null,
   "metadata": {},
   "outputs": [],
   "source": []
  }
 ],
 "metadata": {
  "kernelspec": {
   "display_name": "Python 3",
   "language": "python",
   "name": "python3"
  },
  "language_info": {
   "name": "python",
   "version": "3.9.13"
  },
  "orig_nbformat": 4,
  "vscode": {
   "interpreter": {
    "hash": "884983ba1bb2b5d986516bbd7d72ebed7b4e1669a31c2befd5e7c46f3aff22c9"
   }
  }
 },
 "nbformat": 4,
 "nbformat_minor": 2
}
