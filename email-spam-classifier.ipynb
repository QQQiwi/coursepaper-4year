{
 "cells": [
  {
   "cell_type": "code",
   "execution_count": 3,
   "id": "1a177c4f",
   "metadata": {
    "papermill": {
     "duration": 0.007415,
     "end_time": "2022-11-24T11:11:49.025784",
     "exception": false,
     "start_time": "2022-11-24T11:11:49.018369",
     "status": "completed"
    },
    "tags": []
   },
   "outputs": [
    {
     "name": "stdout",
     "output_type": "stream",
     "text": [
      " ��� � ���ன�⢥ C �� ����� ��⪨.\n",
      " ��਩�� ����� ⮬�: EAE2-FA98\n",
      "\n",
      " ����ন��� ����� c:\\My-University-Documents\\coursepaper-4year\n",
      "\n",
      "14.02.2023  17:04    <DIR>          .\n",
      "14.02.2023  17:04    <DIR>          ..\n",
      "14.02.2023  17:04    <DIR>          data\n",
      "14.02.2023  16:35        12�823�650 data.zip\n",
      "14.02.2023  16:35           602�703 email-spam-classifier.ipynb\n",
      "13.02.2023  17:35               123 README.md\n",
      "               3 䠩���     13�426�476 ����\n",
      "               3 �����  574�462�197�760 ���� ᢮�����\n"
     ]
    }
   ],
   "source": [
    "%ls"
   ]
  },
  {
   "cell_type": "code",
   "execution_count": 4,
   "id": "4baae12d",
   "metadata": {
    "_cell_guid": "b1076dfc-b9ad-4769-8c92-a6c4dae69d19",
    "_uuid": "8f2839f25d086af736a60e9eeb907d3b93b6e0e5",
    "execution": {
     "iopub.execute_input": "2022-11-24T11:11:49.041769Z",
     "iopub.status.busy": "2022-11-24T11:11:49.041250Z",
     "iopub.status.idle": "2022-11-24T11:11:54.194004Z",
     "shell.execute_reply": "2022-11-24T11:11:54.192582Z"
    },
    "papermill": {
     "duration": 5.18402,
     "end_time": "2022-11-24T11:11:54.216815",
     "exception": false,
     "start_time": "2022-11-24T11:11:49.032795",
     "status": "completed"
    },
    "tags": []
   },
   "outputs": [],
   "source": [
    "import numpy as np\n",
    "import pandas as pd"
   ]
  },
  {
   "cell_type": "code",
   "execution_count": 6,
   "id": "dfd998c2",
   "metadata": {
    "execution": {
     "iopub.execute_input": "2022-11-24T11:11:54.260649Z",
     "iopub.status.busy": "2022-11-24T11:11:54.260212Z",
     "iopub.status.idle": "2022-11-24T11:11:54.268323Z",
     "shell.execute_reply": "2022-11-24T11:11:54.266700Z"
    },
    "papermill": {
     "duration": 0.029524,
     "end_time": "2022-11-24T11:11:54.271362",
     "exception": false,
     "start_time": "2022-11-24T11:11:54.241838",
     "status": "completed"
    },
    "tags": []
   },
   "outputs": [
    {
     "name": "stdout",
     "output_type": "stream",
     "text": [
      "Spam Data: 501\n",
      "Ham Data: 2551\n"
     ]
    }
   ],
   "source": [
    "# Check given traning examples\n",
    "print(\"Spam Data:\", len(os.listdir('mail-data/hamnspam/spam')))\n",
    "print(\"Ham Data:\", len(os.listdir('mail-data/hamnspam/ham/')))"
   ]
  },
  {
   "cell_type": "code",
   "execution_count": 9,
   "id": "1686699c",
   "metadata": {
    "execution": {
     "iopub.execute_input": "2022-11-24T11:11:54.309302Z",
     "iopub.status.busy": "2022-11-24T11:11:54.308412Z",
     "iopub.status.idle": "2022-11-24T11:11:56.054276Z",
     "shell.execute_reply": "2022-11-24T11:11:56.052893Z"
    },
    "papermill": {
     "duration": 1.768283,
     "end_time": "2022-11-24T11:11:56.057996",
     "exception": false,
     "start_time": "2022-11-24T11:11:54.289713",
     "status": "completed"
    },
    "tags": []
   },
   "outputs": [],
   "source": [
    "import nltk\n",
    "import re\n",
    "\n",
    "from nltk.corpus import stopwords\n",
    "from nltk.stem import WordNetLemmatizer\n",
    "\n",
    "from sklearn.feature_extraction.text import CountVectorizer\n",
    "from sklearn.preprocessing import LabelEncoder\n",
    "from sklearn.model_selection import train_test_split\n",
    "from sklearn.naive_bayes import MultinomialNB"
   ]
  },
  {
   "cell_type": "code",
   "execution_count": 10,
   "id": "a6bb65c0",
   "metadata": {
    "execution": {
     "iopub.execute_input": "2022-11-24T11:11:56.093601Z",
     "iopub.status.busy": "2022-11-24T11:11:56.093163Z",
     "iopub.status.idle": "2022-11-24T11:12:08.155474Z",
     "shell.execute_reply": "2022-11-24T11:12:08.154527Z"
    },
    "papermill": {
     "duration": 12.083585,
     "end_time": "2022-11-24T11:12:08.158264",
     "exception": false,
     "start_time": "2022-11-24T11:11:56.074679",
     "status": "completed"
    },
    "tags": []
   },
   "outputs": [],
   "source": [
    "path = 'mail-data/hamnspam/'\n",
    "mails = []\n",
    "labels = []\n",
    "\n",
    "for label in ['spam/', 'ham/'] :\n",
    "    \n",
    "    f_name  = os.listdir(os.path.join(path,label))\n",
    "    \n",
    "    for name in f_name :\n",
    "        f = open((path + label + name), 'r', encoding = 'latin-1')\n",
    "        bolk = f.read()\n",
    "        mails.append(bolk)\n",
    "        labels.append(label)\n",
    "        \n",
    "        \n",
    "df = pd.DataFrame({'emails' : mails, 'label':labels})"
   ]
  },
  {
   "cell_type": "code",
   "execution_count": 11,
   "id": "0081c80b",
   "metadata": {
    "execution": {
     "iopub.execute_input": "2022-11-24T11:12:08.195771Z",
     "iopub.status.busy": "2022-11-24T11:12:08.195104Z",
     "iopub.status.idle": "2022-11-24T11:12:08.214975Z",
     "shell.execute_reply": "2022-11-24T11:12:08.213829Z"
    },
    "papermill": {
     "duration": 0.042078,
     "end_time": "2022-11-24T11:12:08.217754",
     "exception": false,
     "start_time": "2022-11-24T11:12:08.175676",
     "status": "completed"
    },
    "tags": []
   },
   "outputs": [
    {
     "data": {
      "text/html": [
       "<div>\n",
       "<style scoped>\n",
       "    .dataframe tbody tr th:only-of-type {\n",
       "        vertical-align: middle;\n",
       "    }\n",
       "\n",
       "    .dataframe tbody tr th {\n",
       "        vertical-align: top;\n",
       "    }\n",
       "\n",
       "    .dataframe thead th {\n",
       "        text-align: right;\n",
       "    }\n",
       "</style>\n",
       "<table border=\"1\" class=\"dataframe\">\n",
       "  <thead>\n",
       "    <tr style=\"text-align: right;\">\n",
       "      <th></th>\n",
       "      <th>emails</th>\n",
       "      <th>label</th>\n",
       "    </tr>\n",
       "  </thead>\n",
       "  <tbody>\n",
       "    <tr>\n",
       "      <th>0</th>\n",
       "      <td>mv 1 00001.bfc8d64d12b325ff385cca8d07b84288\\nm...</td>\n",
       "      <td>spam/</td>\n",
       "    </tr>\n",
       "    <tr>\n",
       "      <th>1</th>\n",
       "      <td>From 12a1mailbot1@web.de  Thu Aug 22 13:17:22 ...</td>\n",
       "      <td>spam/</td>\n",
       "    </tr>\n",
       "    <tr>\n",
       "      <th>2</th>\n",
       "      <td>From ilug-admin@linux.ie  Thu Aug 22 13:27:39 ...</td>\n",
       "      <td>spam/</td>\n",
       "    </tr>\n",
       "    <tr>\n",
       "      <th>3</th>\n",
       "      <td>From sabrina@mx3.1premio.com  Thu Aug 22 14:44...</td>\n",
       "      <td>spam/</td>\n",
       "    </tr>\n",
       "    <tr>\n",
       "      <th>4</th>\n",
       "      <td>From wsup@playful.com  Thu Aug 22 16:17:00 200...</td>\n",
       "      <td>spam/</td>\n",
       "    </tr>\n",
       "  </tbody>\n",
       "</table>\n",
       "</div>"
      ],
      "text/plain": [
       "                                              emails  label\n",
       "0  mv 1 00001.bfc8d64d12b325ff385cca8d07b84288\\nm...  spam/\n",
       "1  From 12a1mailbot1@web.de  Thu Aug 22 13:17:22 ...  spam/\n",
       "2  From ilug-admin@linux.ie  Thu Aug 22 13:27:39 ...  spam/\n",
       "3  From sabrina@mx3.1premio.com  Thu Aug 22 14:44...  spam/\n",
       "4  From wsup@playful.com  Thu Aug 22 16:17:00 200...  spam/"
      ]
     },
     "execution_count": 11,
     "metadata": {},
     "output_type": "execute_result"
    }
   ],
   "source": [
    "df.head()"
   ]
  },
  {
   "cell_type": "code",
   "execution_count": 12,
   "id": "d48717c7",
   "metadata": {
    "execution": {
     "iopub.execute_input": "2022-11-24T11:12:08.253522Z",
     "iopub.status.busy": "2022-11-24T11:12:08.253062Z",
     "iopub.status.idle": "2022-11-24T11:12:08.264753Z",
     "shell.execute_reply": "2022-11-24T11:12:08.263457Z"
    },
    "papermill": {
     "duration": 0.032359,
     "end_time": "2022-11-24T11:12:08.267267",
     "exception": false,
     "start_time": "2022-11-24T11:12:08.234908",
     "status": "completed"
    },
    "tags": []
   },
   "outputs": [
    {
     "data": {
      "text/html": [
       "<div>\n",
       "<style scoped>\n",
       "    .dataframe tbody tr th:only-of-type {\n",
       "        vertical-align: middle;\n",
       "    }\n",
       "\n",
       "    .dataframe tbody tr th {\n",
       "        vertical-align: top;\n",
       "    }\n",
       "\n",
       "    .dataframe thead th {\n",
       "        text-align: right;\n",
       "    }\n",
       "</style>\n",
       "<table border=\"1\" class=\"dataframe\">\n",
       "  <thead>\n",
       "    <tr style=\"text-align: right;\">\n",
       "      <th></th>\n",
       "      <th>emails</th>\n",
       "      <th>label</th>\n",
       "    </tr>\n",
       "  </thead>\n",
       "  <tbody>\n",
       "    <tr>\n",
       "      <th>3047</th>\n",
       "      <td>From rssfeeds@jmason.org  Thu Oct 10 12:32:30 ...</td>\n",
       "      <td>ham/</td>\n",
       "    </tr>\n",
       "    <tr>\n",
       "      <th>3048</th>\n",
       "      <td>From rssfeeds@jmason.org  Thu Oct 10 12:32:31 ...</td>\n",
       "      <td>ham/</td>\n",
       "    </tr>\n",
       "    <tr>\n",
       "      <th>3049</th>\n",
       "      <td>From rssfeeds@jmason.org  Thu Oct 10 12:32:32 ...</td>\n",
       "      <td>ham/</td>\n",
       "    </tr>\n",
       "    <tr>\n",
       "      <th>3050</th>\n",
       "      <td>From rssfeeds@jmason.org  Thu Oct 10 12:32:34 ...</td>\n",
       "      <td>ham/</td>\n",
       "    </tr>\n",
       "    <tr>\n",
       "      <th>3051</th>\n",
       "      <td>From rssfeeds@jmason.org  Thu Oct 10 12:32:34 ...</td>\n",
       "      <td>ham/</td>\n",
       "    </tr>\n",
       "  </tbody>\n",
       "</table>\n",
       "</div>"
      ],
      "text/plain": [
       "                                                 emails label\n",
       "3047  From rssfeeds@jmason.org  Thu Oct 10 12:32:30 ...  ham/\n",
       "3048  From rssfeeds@jmason.org  Thu Oct 10 12:32:31 ...  ham/\n",
       "3049  From rssfeeds@jmason.org  Thu Oct 10 12:32:32 ...  ham/\n",
       "3050  From rssfeeds@jmason.org  Thu Oct 10 12:32:34 ...  ham/\n",
       "3051  From rssfeeds@jmason.org  Thu Oct 10 12:32:34 ...  ham/"
      ]
     },
     "execution_count": 12,
     "metadata": {},
     "output_type": "execute_result"
    }
   ],
   "source": [
    "df.tail()"
   ]
  },
  {
   "cell_type": "code",
   "execution_count": 13,
   "id": "66f9fabd",
   "metadata": {
    "execution": {
     "iopub.execute_input": "2022-11-24T11:12:08.304658Z",
     "iopub.status.busy": "2022-11-24T11:12:08.304235Z",
     "iopub.status.idle": "2022-11-24T11:12:08.314906Z",
     "shell.execute_reply": "2022-11-24T11:12:08.313824Z"
    },
    "papermill": {
     "duration": 0.032783,
     "end_time": "2022-11-24T11:12:08.317364",
     "exception": false,
     "start_time": "2022-11-24T11:12:08.284581",
     "status": "completed"
    },
    "tags": []
   },
   "outputs": [],
   "source": [
    "encoder = LabelEncoder()\n",
    "df['label'] = encoder.fit_transform(df['label'])"
   ]
  },
  {
   "cell_type": "code",
   "execution_count": 14,
   "id": "a5b8ed2a",
   "metadata": {
    "execution": {
     "iopub.execute_input": "2022-11-24T11:12:08.353511Z",
     "iopub.status.busy": "2022-11-24T11:12:08.353097Z",
     "iopub.status.idle": "2022-11-24T11:12:08.367829Z",
     "shell.execute_reply": "2022-11-24T11:12:08.366515Z"
    },
    "papermill": {
     "duration": 0.036039,
     "end_time": "2022-11-24T11:12:08.370651",
     "exception": false,
     "start_time": "2022-11-24T11:12:08.334612",
     "status": "completed"
    },
    "tags": []
   },
   "outputs": [
    {
     "data": {
      "text/html": [
       "<div>\n",
       "<style scoped>\n",
       "    .dataframe tbody tr th:only-of-type {\n",
       "        vertical-align: middle;\n",
       "    }\n",
       "\n",
       "    .dataframe tbody tr th {\n",
       "        vertical-align: top;\n",
       "    }\n",
       "\n",
       "    .dataframe thead th {\n",
       "        text-align: right;\n",
       "    }\n",
       "</style>\n",
       "<table border=\"1\" class=\"dataframe\">\n",
       "  <thead>\n",
       "    <tr style=\"text-align: right;\">\n",
       "      <th></th>\n",
       "      <th>emails</th>\n",
       "      <th>label</th>\n",
       "    </tr>\n",
       "  </thead>\n",
       "  <tbody>\n",
       "    <tr>\n",
       "      <th>0</th>\n",
       "      <td>mv 1 00001.bfc8d64d12b325ff385cca8d07b84288\\nm...</td>\n",
       "      <td>1</td>\n",
       "    </tr>\n",
       "    <tr>\n",
       "      <th>1</th>\n",
       "      <td>From 12a1mailbot1@web.de  Thu Aug 22 13:17:22 ...</td>\n",
       "      <td>1</td>\n",
       "    </tr>\n",
       "    <tr>\n",
       "      <th>2</th>\n",
       "      <td>From ilug-admin@linux.ie  Thu Aug 22 13:27:39 ...</td>\n",
       "      <td>1</td>\n",
       "    </tr>\n",
       "    <tr>\n",
       "      <th>3</th>\n",
       "      <td>From sabrina@mx3.1premio.com  Thu Aug 22 14:44...</td>\n",
       "      <td>1</td>\n",
       "    </tr>\n",
       "    <tr>\n",
       "      <th>4</th>\n",
       "      <td>From wsup@playful.com  Thu Aug 22 16:17:00 200...</td>\n",
       "      <td>1</td>\n",
       "    </tr>\n",
       "    <tr>\n",
       "      <th>...</th>\n",
       "      <td>...</td>\n",
       "      <td>...</td>\n",
       "    </tr>\n",
       "    <tr>\n",
       "      <th>3047</th>\n",
       "      <td>From rssfeeds@jmason.org  Thu Oct 10 12:32:30 ...</td>\n",
       "      <td>0</td>\n",
       "    </tr>\n",
       "    <tr>\n",
       "      <th>3048</th>\n",
       "      <td>From rssfeeds@jmason.org  Thu Oct 10 12:32:31 ...</td>\n",
       "      <td>0</td>\n",
       "    </tr>\n",
       "    <tr>\n",
       "      <th>3049</th>\n",
       "      <td>From rssfeeds@jmason.org  Thu Oct 10 12:32:32 ...</td>\n",
       "      <td>0</td>\n",
       "    </tr>\n",
       "    <tr>\n",
       "      <th>3050</th>\n",
       "      <td>From rssfeeds@jmason.org  Thu Oct 10 12:32:34 ...</td>\n",
       "      <td>0</td>\n",
       "    </tr>\n",
       "    <tr>\n",
       "      <th>3051</th>\n",
       "      <td>From rssfeeds@jmason.org  Thu Oct 10 12:32:34 ...</td>\n",
       "      <td>0</td>\n",
       "    </tr>\n",
       "  </tbody>\n",
       "</table>\n",
       "<p>3052 rows × 2 columns</p>\n",
       "</div>"
      ],
      "text/plain": [
       "                                                 emails  label\n",
       "0     mv 1 00001.bfc8d64d12b325ff385cca8d07b84288\\nm...      1\n",
       "1     From 12a1mailbot1@web.de  Thu Aug 22 13:17:22 ...      1\n",
       "2     From ilug-admin@linux.ie  Thu Aug 22 13:27:39 ...      1\n",
       "3     From sabrina@mx3.1premio.com  Thu Aug 22 14:44...      1\n",
       "4     From wsup@playful.com  Thu Aug 22 16:17:00 200...      1\n",
       "...                                                 ...    ...\n",
       "3047  From rssfeeds@jmason.org  Thu Oct 10 12:32:30 ...      0\n",
       "3048  From rssfeeds@jmason.org  Thu Oct 10 12:32:31 ...      0\n",
       "3049  From rssfeeds@jmason.org  Thu Oct 10 12:32:32 ...      0\n",
       "3050  From rssfeeds@jmason.org  Thu Oct 10 12:32:34 ...      0\n",
       "3051  From rssfeeds@jmason.org  Thu Oct 10 12:32:34 ...      0\n",
       "\n",
       "[3052 rows x 2 columns]"
      ]
     },
     "execution_count": 14,
     "metadata": {},
     "output_type": "execute_result"
    }
   ],
   "source": [
    "df"
   ]
  },
  {
   "cell_type": "code",
   "execution_count": 15,
   "id": "9f51e830",
   "metadata": {
    "execution": {
     "iopub.execute_input": "2022-11-24T11:12:08.407754Z",
     "iopub.status.busy": "2022-11-24T11:12:08.407297Z",
     "iopub.status.idle": "2022-11-24T11:12:08.442554Z",
     "shell.execute_reply": "2022-11-24T11:12:08.441218Z"
    },
    "papermill": {
     "duration": 0.057221,
     "end_time": "2022-11-24T11:12:08.445527",
     "exception": false,
     "start_time": "2022-11-24T11:12:08.388306",
     "status": "completed"
    },
    "tags": []
   },
   "outputs": [],
   "source": [
    "df['emails'] = df['emails'].apply(lambda x : x.lower())"
   ]
  },
  {
   "cell_type": "code",
   "execution_count": 16,
   "id": "af2d5ff0",
   "metadata": {
    "execution": {
     "iopub.execute_input": "2022-11-24T11:12:08.482937Z",
     "iopub.status.busy": "2022-11-24T11:12:08.482530Z",
     "iopub.status.idle": "2022-11-24T11:12:08.498258Z",
     "shell.execute_reply": "2022-11-24T11:12:08.497041Z"
    },
    "papermill": {
     "duration": 0.03773,
     "end_time": "2022-11-24T11:12:08.500949",
     "exception": false,
     "start_time": "2022-11-24T11:12:08.463219",
     "status": "completed"
    },
    "tags": []
   },
   "outputs": [
    {
     "data": {
      "text/html": [
       "<div>\n",
       "<style scoped>\n",
       "    .dataframe tbody tr th:only-of-type {\n",
       "        vertical-align: middle;\n",
       "    }\n",
       "\n",
       "    .dataframe tbody tr th {\n",
       "        vertical-align: top;\n",
       "    }\n",
       "\n",
       "    .dataframe thead th {\n",
       "        text-align: right;\n",
       "    }\n",
       "</style>\n",
       "<table border=\"1\" class=\"dataframe\">\n",
       "  <thead>\n",
       "    <tr style=\"text-align: right;\">\n",
       "      <th></th>\n",
       "      <th>emails</th>\n",
       "      <th>label</th>\n",
       "    </tr>\n",
       "  </thead>\n",
       "  <tbody>\n",
       "    <tr>\n",
       "      <th>0</th>\n",
       "      <td>mv 1 00001.bfc8d64d12b325ff385cca8d07b84288\\nm...</td>\n",
       "      <td>1</td>\n",
       "    </tr>\n",
       "    <tr>\n",
       "      <th>1</th>\n",
       "      <td>from 12a1mailbot1@web.de  thu aug 22 13:17:22 ...</td>\n",
       "      <td>1</td>\n",
       "    </tr>\n",
       "    <tr>\n",
       "      <th>2</th>\n",
       "      <td>from ilug-admin@linux.ie  thu aug 22 13:27:39 ...</td>\n",
       "      <td>1</td>\n",
       "    </tr>\n",
       "    <tr>\n",
       "      <th>3</th>\n",
       "      <td>from sabrina@mx3.1premio.com  thu aug 22 14:44...</td>\n",
       "      <td>1</td>\n",
       "    </tr>\n",
       "    <tr>\n",
       "      <th>4</th>\n",
       "      <td>from wsup@playful.com  thu aug 22 16:17:00 200...</td>\n",
       "      <td>1</td>\n",
       "    </tr>\n",
       "    <tr>\n",
       "      <th>...</th>\n",
       "      <td>...</td>\n",
       "      <td>...</td>\n",
       "    </tr>\n",
       "    <tr>\n",
       "      <th>3047</th>\n",
       "      <td>from rssfeeds@jmason.org  thu oct 10 12:32:30 ...</td>\n",
       "      <td>0</td>\n",
       "    </tr>\n",
       "    <tr>\n",
       "      <th>3048</th>\n",
       "      <td>from rssfeeds@jmason.org  thu oct 10 12:32:31 ...</td>\n",
       "      <td>0</td>\n",
       "    </tr>\n",
       "    <tr>\n",
       "      <th>3049</th>\n",
       "      <td>from rssfeeds@jmason.org  thu oct 10 12:32:32 ...</td>\n",
       "      <td>0</td>\n",
       "    </tr>\n",
       "    <tr>\n",
       "      <th>3050</th>\n",
       "      <td>from rssfeeds@jmason.org  thu oct 10 12:32:34 ...</td>\n",
       "      <td>0</td>\n",
       "    </tr>\n",
       "    <tr>\n",
       "      <th>3051</th>\n",
       "      <td>from rssfeeds@jmason.org  thu oct 10 12:32:34 ...</td>\n",
       "      <td>0</td>\n",
       "    </tr>\n",
       "  </tbody>\n",
       "</table>\n",
       "<p>3052 rows × 2 columns</p>\n",
       "</div>"
      ],
      "text/plain": [
       "                                                 emails  label\n",
       "0     mv 1 00001.bfc8d64d12b325ff385cca8d07b84288\\nm...      1\n",
       "1     from 12a1mailbot1@web.de  thu aug 22 13:17:22 ...      1\n",
       "2     from ilug-admin@linux.ie  thu aug 22 13:27:39 ...      1\n",
       "3     from sabrina@mx3.1premio.com  thu aug 22 14:44...      1\n",
       "4     from wsup@playful.com  thu aug 22 16:17:00 200...      1\n",
       "...                                                 ...    ...\n",
       "3047  from rssfeeds@jmason.org  thu oct 10 12:32:30 ...      0\n",
       "3048  from rssfeeds@jmason.org  thu oct 10 12:32:31 ...      0\n",
       "3049  from rssfeeds@jmason.org  thu oct 10 12:32:32 ...      0\n",
       "3050  from rssfeeds@jmason.org  thu oct 10 12:32:34 ...      0\n",
       "3051  from rssfeeds@jmason.org  thu oct 10 12:32:34 ...      0\n",
       "\n",
       "[3052 rows x 2 columns]"
      ]
     },
     "execution_count": 16,
     "metadata": {},
     "output_type": "execute_result"
    }
   ],
   "source": [
    "df"
   ]
  },
  {
   "cell_type": "code",
   "execution_count": 17,
   "id": "e8847354",
   "metadata": {
    "execution": {
     "iopub.execute_input": "2022-11-24T11:12:08.538459Z",
     "iopub.status.busy": "2022-11-24T11:12:08.538011Z",
     "iopub.status.idle": "2022-11-24T11:12:08.604470Z",
     "shell.execute_reply": "2022-11-24T11:12:08.603490Z"
    },
    "papermill": {
     "duration": 0.088388,
     "end_time": "2022-11-24T11:12:08.607193",
     "exception": false,
     "start_time": "2022-11-24T11:12:08.518805",
     "status": "completed"
    },
    "tags": []
   },
   "outputs": [],
   "source": [
    "df['emails'] = df['emails'].apply(lambda x:x.replace('\\n',''))\n",
    "df['emails'] = df['emails'].apply(lambda x:x.replace('\\t',''))"
   ]
  },
  {
   "cell_type": "code",
   "execution_count": 22,
   "id": "2f555c2e",
   "metadata": {},
   "outputs": [
    {
     "name": "stderr",
     "output_type": "stream",
     "text": [
      "[nltk_data] Downloading package stopwords to\n",
      "[nltk_data]     C:\\Users\\Иван\\AppData\\Roaming\\nltk_data...\n",
      "[nltk_data]   Package stopwords is already up-to-date!\n",
      "[nltk_data] Downloading package wordnet to\n",
      "[nltk_data]     C:\\Users\\Иван\\AppData\\Roaming\\nltk_data...\n"
     ]
    },
    {
     "data": {
      "text/plain": [
       "True"
      ]
     },
     "execution_count": 22,
     "metadata": {},
     "output_type": "execute_result"
    }
   ],
   "source": [
    "nltk.download('stopwords')\n",
    "nltk.download('wordnet')\n",
    "nltk.download('omw-1.4')"
   ]
  },
  {
   "cell_type": "code",
   "execution_count": 23,
   "id": "b5ef2780",
   "metadata": {
    "execution": {
     "iopub.execute_input": "2022-11-24T11:12:08.702138Z",
     "iopub.status.busy": "2022-11-24T11:12:08.701711Z",
     "iopub.status.idle": "2022-11-24T11:15:06.501107Z",
     "shell.execute_reply": "2022-11-24T11:15:06.499719Z"
    },
    "papermill": {
     "duration": 177.822586,
     "end_time": "2022-11-24T11:15:06.504203",
     "exception": false,
     "start_time": "2022-11-24T11:12:08.681617",
     "status": "completed"
    },
    "tags": []
   },
   "outputs": [
    {
     "name": "stderr",
     "output_type": "stream",
     "text": [
      "[nltk_data] Downloading package omw-1.4 to\n",
      "[nltk_data]     C:\\Users\\Иван\\AppData\\Roaming\\nltk_data...\n",
      "[nltk_data]   Package omw-1.4 is already up-to-date!\n"
     ]
    }
   ],
   "source": [
    "lemm = WordNetLemmatizer()\n",
    "processed_text = []\n",
    "\n",
    "for i in range(len(df)) :\n",
    "    text = re.sub('^a-zA-z',' ',df['emails'][i])\n",
    "    words = text.split()\n",
    "    words = [lemm.lemmatize(word) for word in words if word not in set(stopwords.words('english'))]\n",
    "    text_p = ' '.join(words)\n",
    "    processed_text.append(text_p)"
   ]
  },
  {
   "cell_type": "code",
   "execution_count": 39,
   "id": "dca7c78b",
   "metadata": {
    "execution": {
     "iopub.execute_input": "2022-11-24T11:15:06.546752Z",
     "iopub.status.busy": "2022-11-24T11:15:06.545147Z",
     "iopub.status.idle": "2022-11-24T11:15:09.201548Z",
     "shell.execute_reply": "2022-11-24T11:15:09.200401Z"
    },
    "papermill": {
     "duration": 2.679676,
     "end_time": "2022-11-24T11:15:09.204362",
     "exception": false,
     "start_time": "2022-11-24T11:15:06.524686",
     "status": "completed"
    },
    "tags": []
   },
   "outputs": [],
   "source": [
    "cv = CountVectorizer()\n",
    "X = cv.fit_transform(processed_text).toarray()"
   ]
  },
  {
   "cell_type": "code",
   "execution_count": 41,
   "id": "03ad600a",
   "metadata": {
    "execution": {
     "iopub.execute_input": "2022-11-24T11:15:09.314382Z",
     "iopub.status.busy": "2022-11-24T11:15:09.313378Z",
     "iopub.status.idle": "2022-11-24T11:15:09.321247Z",
     "shell.execute_reply": "2022-11-24T11:15:09.319917Z"
    },
    "papermill": {
     "duration": 0.033678,
     "end_time": "2022-11-24T11:15:09.323462",
     "exception": false,
     "start_time": "2022-11-24T11:15:09.289784",
     "status": "completed"
    },
    "tags": []
   },
   "outputs": [
    {
     "data": {
      "text/plain": [
       "(3052, 91924)"
      ]
     },
     "execution_count": 41,
     "metadata": {},
     "output_type": "execute_result"
    }
   ],
   "source": [
    "X.shape"
   ]
  },
  {
   "cell_type": "code",
   "execution_count": 42,
   "id": "86f164e3",
   "metadata": {
    "execution": {
     "iopub.execute_input": "2022-11-24T11:15:09.361972Z",
     "iopub.status.busy": "2022-11-24T11:15:09.361156Z",
     "iopub.status.idle": "2022-11-24T11:15:09.366319Z",
     "shell.execute_reply": "2022-11-24T11:15:09.365462Z"
    },
    "papermill": {
     "duration": 0.027111,
     "end_time": "2022-11-24T11:15:09.368748",
     "exception": false,
     "start_time": "2022-11-24T11:15:09.341637",
     "status": "completed"
    },
    "tags": []
   },
   "outputs": [],
   "source": [
    "y = df['label']"
   ]
  },
  {
   "cell_type": "code",
   "execution_count": 43,
   "id": "682cb883",
   "metadata": {
    "execution": {
     "iopub.execute_input": "2022-11-24T11:15:09.407394Z",
     "iopub.status.busy": "2022-11-24T11:15:09.406769Z",
     "iopub.status.idle": "2022-11-24T11:15:10.810195Z",
     "shell.execute_reply": "2022-11-24T11:15:10.808810Z"
    },
    "papermill": {
     "duration": 1.42604,
     "end_time": "2022-11-24T11:15:10.813031",
     "exception": false,
     "start_time": "2022-11-24T11:15:09.386991",
     "status": "completed"
    },
    "tags": []
   },
   "outputs": [],
   "source": [
    "\n",
    "X_train, X_test, y_train, y_test = train_test_split(X, y, test_size = 0.2, random_state = 5)"
   ]
  },
  {
   "cell_type": "code",
   "execution_count": 44,
   "id": "ae15c389",
   "metadata": {
    "execution": {
     "iopub.execute_input": "2022-11-24T11:15:10.853082Z",
     "iopub.status.busy": "2022-11-24T11:15:10.852019Z",
     "iopub.status.idle": "2022-11-24T11:15:10.860211Z",
     "shell.execute_reply": "2022-11-24T11:15:10.859114Z"
    },
    "papermill": {
     "duration": 0.031147,
     "end_time": "2022-11-24T11:15:10.862962",
     "exception": false,
     "start_time": "2022-11-24T11:15:10.831815",
     "status": "completed"
    },
    "tags": []
   },
   "outputs": [],
   "source": [
    "model = MultinomialNB()"
   ]
  },
  {
   "cell_type": "code",
   "execution_count": 45,
   "id": "8c3d43ed",
   "metadata": {
    "execution": {
     "iopub.execute_input": "2022-11-24T11:15:10.900674Z",
     "iopub.status.busy": "2022-11-24T11:15:10.900215Z",
     "iopub.status.idle": "2022-11-24T11:15:12.613461Z",
     "shell.execute_reply": "2022-11-24T11:15:12.612198Z"
    },
    "papermill": {
     "duration": 1.73521,
     "end_time": "2022-11-24T11:15:12.616150",
     "exception": false,
     "start_time": "2022-11-24T11:15:10.880940",
     "status": "completed"
    },
    "tags": []
   },
   "outputs": [
    {
     "data": {
      "text/plain": [
       "MultinomialNB()"
      ]
     },
     "execution_count": 45,
     "metadata": {},
     "output_type": "execute_result"
    }
   ],
   "source": [
    "model.fit(X_train,y_train)"
   ]
  },
  {
   "cell_type": "code",
   "execution_count": 46,
   "id": "68a47a1f",
   "metadata": {
    "execution": {
     "iopub.execute_input": "2022-11-24T11:15:12.654994Z",
     "iopub.status.busy": "2022-11-24T11:15:12.654591Z",
     "iopub.status.idle": "2022-11-24T11:15:12.936799Z",
     "shell.execute_reply": "2022-11-24T11:15:12.935058Z"
    },
    "papermill": {
     "duration": 0.306475,
     "end_time": "2022-11-24T11:15:12.941200",
     "exception": false,
     "start_time": "2022-11-24T11:15:12.634725",
     "status": "completed"
    },
    "tags": []
   },
   "outputs": [],
   "source": [
    "y_pred = model.predict(X_test)"
   ]
  },
  {
   "cell_type": "code",
   "execution_count": 47,
   "id": "5ebc7527",
   "metadata": {
    "execution": {
     "iopub.execute_input": "2022-11-24T11:15:13.034063Z",
     "iopub.status.busy": "2022-11-24T11:15:13.033367Z",
     "iopub.status.idle": "2022-11-24T11:15:13.045518Z",
     "shell.execute_reply": "2022-11-24T11:15:13.044350Z"
    },
    "papermill": {
     "duration": 0.062699,
     "end_time": "2022-11-24T11:15:13.048843",
     "exception": false,
     "start_time": "2022-11-24T11:15:12.986144",
     "status": "completed"
    },
    "tags": []
   },
   "outputs": [
    {
     "data": {
      "text/plain": [
       "0.9852700490998363"
      ]
     },
     "execution_count": 47,
     "metadata": {},
     "output_type": "execute_result"
    }
   ],
   "source": [
    "# Check accuracy\n",
    "\n",
    "from sklearn.metrics import accuracy_score\n",
    "\n",
    "accuracy = accuracy_score(y_test, y_pred)\n",
    "\n",
    "accuracy"
   ]
  },
  {
   "cell_type": "code",
   "execution_count": 48,
   "id": "2cbedfd6",
   "metadata": {
    "execution": {
     "iopub.execute_input": "2022-11-24T11:15:13.087478Z",
     "iopub.status.busy": "2022-11-24T11:15:13.087052Z",
     "iopub.status.idle": "2022-11-24T11:15:13.097008Z",
     "shell.execute_reply": "2022-11-24T11:15:13.095734Z"
    },
    "papermill": {
     "duration": 0.032218,
     "end_time": "2022-11-24T11:15:13.099466",
     "exception": false,
     "start_time": "2022-11-24T11:15:13.067248",
     "status": "completed"
    },
    "tags": []
   },
   "outputs": [
    {
     "data": {
      "text/plain": [
       "array([[510,   0],\n",
       "       [  9,  92]], dtype=int64)"
      ]
     },
     "execution_count": 48,
     "metadata": {},
     "output_type": "execute_result"
    }
   ],
   "source": [
    "from sklearn.metrics import confusion_matrix\n",
    "CM = confusion_matrix(y_test, y_pred)\n",
    "CM"
   ]
  }
 ],
 "metadata": {
  "kernelspec": {
   "display_name": "Python 3",
   "language": "python",
   "name": "python3"
  },
  "language_info": {
   "codemirror_mode": {
    "name": "ipython",
    "version": 3
   },
   "file_extension": ".py",
   "mimetype": "text/x-python",
   "name": "python",
   "nbconvert_exporter": "python",
   "pygments_lexer": "ipython3",
   "version": "3.9.13"
  },
  "papermill": {
   "default_parameters": {},
   "duration": 215.356668,
   "end_time": "2022-11-24T11:15:14.379897",
   "environment_variables": {},
   "exception": null,
   "input_path": "__notebook__.ipynb",
   "output_path": "__notebook__.ipynb",
   "parameters": {},
   "start_time": "2022-11-24T11:11:39.023229",
   "version": "2.3.4"
  },
  "vscode": {
   "interpreter": {
    "hash": "884983ba1bb2b5d986516bbd7d72ebed7b4e1669a31c2befd5e7c46f3aff22c9"
   }
  }
 },
 "nbformat": 4,
 "nbformat_minor": 5
}
