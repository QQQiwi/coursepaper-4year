{
 "cells": [
  {
   "cell_type": "code",
   "execution_count": 8,
   "id": "1a177c4f",
   "metadata": {
    "papermill": {
     "duration": 0.007415,
     "end_time": "2022-11-24T11:11:49.025784",
     "exception": false,
     "start_time": "2022-11-24T11:11:49.018369",
     "status": "completed"
    },
    "tags": []
   },
   "outputs": [
    {
     "name": "stdout",
     "output_type": "stream",
     "text": [
      " ��� � ���ன�⢥ C �� ����� ��⪨.\n",
      " ��਩�� ����� ⮬�: EAE2-FA98\n",
      "\n",
      " ����ন��� ����� c:\\My-University-Documents\\coursepaper-4year\n",
      "\n",
      "14.02.2023  18:01    <DIR>          .\n",
      "14.02.2023  18:01    <DIR>          ..\n",
      "15.02.2023  22:29            32�227 email-spam-classifier.ipynb\n",
      "14.02.2023  17:04    <DIR>          mail-data\n",
      "14.02.2023  16:35        12�823�650 mail-data.zip\n",
      "13.02.2023  17:35               123 README.md\n",
      "14.02.2023  19:13    <DIR>          sms-data\n",
      "14.02.2023  17:36           215�934 sms-data.zip\n",
      "16.02.2023  10:17           556�409 sms-spam-classifier.ipynb\n",
      "               5 䠩���     13�628�343 ����\n",
      "               4 �����  588�336�205�824 ���� ᢮�����\n"
     ]
    }
   ],
   "source": [
    "%ls"
   ]
  },
  {
   "cell_type": "code",
   "execution_count": 1,
   "id": "4baae12d",
   "metadata": {
    "_cell_guid": "b1076dfc-b9ad-4769-8c92-a6c4dae69d19",
    "_uuid": "8f2839f25d086af736a60e9eeb907d3b93b6e0e5",
    "execution": {
     "iopub.execute_input": "2022-11-24T11:11:49.041769Z",
     "iopub.status.busy": "2022-11-24T11:11:49.041250Z",
     "iopub.status.idle": "2022-11-24T11:11:54.194004Z",
     "shell.execute_reply": "2022-11-24T11:11:54.192582Z"
    },
    "papermill": {
     "duration": 5.18402,
     "end_time": "2022-11-24T11:11:54.216815",
     "exception": false,
     "start_time": "2022-11-24T11:11:49.032795",
     "status": "completed"
    },
    "tags": []
   },
   "outputs": [],
   "source": [
    "import numpy as np\n",
    "import pandas as pd\n",
    "import os"
   ]
  },
  {
   "cell_type": "code",
   "execution_count": 2,
   "id": "dfd998c2",
   "metadata": {
    "execution": {
     "iopub.execute_input": "2022-11-24T11:11:54.260649Z",
     "iopub.status.busy": "2022-11-24T11:11:54.260212Z",
     "iopub.status.idle": "2022-11-24T11:11:54.268323Z",
     "shell.execute_reply": "2022-11-24T11:11:54.266700Z"
    },
    "papermill": {
     "duration": 0.029524,
     "end_time": "2022-11-24T11:11:54.271362",
     "exception": false,
     "start_time": "2022-11-24T11:11:54.241838",
     "status": "completed"
    },
    "tags": []
   },
   "outputs": [
    {
     "name": "stdout",
     "output_type": "stream",
     "text": [
      "Spam Data: 501\n",
      "Ham Data: 2551\n"
     ]
    }
   ],
   "source": [
    "# Check given traning examples\n",
    "print(\"Spam Data:\", len(os.listdir('mail-data/hamnspam/spam')))\n",
    "print(\"Ham Data:\", len(os.listdir('mail-data/hamnspam/ham/')))"
   ]
  },
  {
   "cell_type": "code",
   "execution_count": 3,
   "id": "1686699c",
   "metadata": {
    "execution": {
     "iopub.execute_input": "2022-11-24T11:11:54.309302Z",
     "iopub.status.busy": "2022-11-24T11:11:54.308412Z",
     "iopub.status.idle": "2022-11-24T11:11:56.054276Z",
     "shell.execute_reply": "2022-11-24T11:11:56.052893Z"
    },
    "papermill": {
     "duration": 1.768283,
     "end_time": "2022-11-24T11:11:56.057996",
     "exception": false,
     "start_time": "2022-11-24T11:11:54.289713",
     "status": "completed"
    },
    "tags": []
   },
   "outputs": [],
   "source": [
    "import nltk\n",
    "import re\n",
    "\n",
    "from nltk.corpus import stopwords\n",
    "from nltk.stem import WordNetLemmatizer\n",
    "\n",
    "from sklearn.feature_extraction.text import CountVectorizer\n",
    "from sklearn.preprocessing import LabelEncoder\n",
    "from sklearn.model_selection import train_test_split\n",
    "from sklearn.naive_bayes import MultinomialNB"
   ]
  },
  {
   "cell_type": "code",
   "execution_count": 6,
   "id": "a6bb65c0",
   "metadata": {
    "execution": {
     "iopub.execute_input": "2022-11-24T11:11:56.093601Z",
     "iopub.status.busy": "2022-11-24T11:11:56.093163Z",
     "iopub.status.idle": "2022-11-24T11:12:08.155474Z",
     "shell.execute_reply": "2022-11-24T11:12:08.154527Z"
    },
    "papermill": {
     "duration": 12.083585,
     "end_time": "2022-11-24T11:12:08.158264",
     "exception": false,
     "start_time": "2022-11-24T11:11:56.074679",
     "status": "completed"
    },
    "tags": []
   },
   "outputs": [],
   "source": [
    "path = 'mail-data/hamnspam/'\n",
    "mails = []\n",
    "labels = []\n",
    "\n",
    "for label in ['spam/', 'ham/'] :\n",
    "    \n",
    "    f_name  = os.listdir(os.path.join(path,label))\n",
    "    \n",
    "    for name in f_name :\n",
    "        f = open((path + label + name), 'r', encoding = 'latin-1')\n",
    "        bolk = f.read()\n",
    "        mails.append(bolk)\n",
    "        labels.append(label)\n",
    "        \n",
    "        \n",
    "df = pd.DataFrame({'emails' : mails, 'label':labels})"
   ]
  },
  {
   "cell_type": "code",
   "execution_count": 38,
   "id": "f89ffd8f",
   "metadata": {},
   "outputs": [],
   "source": [
    "df.to_csv(\"mail-data/mail_data.csv\", index=False)"
   ]
  },
  {
   "cell_type": "code",
   "execution_count": 13,
   "id": "e8472055",
   "metadata": {},
   "outputs": [],
   "source": [
    "# Для другого набора данных\n",
    "\n",
    "# df = pd.read_csv(\"sms-data/processed_data.csv\", encoding=\"ISO-8859-1\")\n",
    "# df[\"emails\"] = df[\"message\"]\n",
    "# df[\"label\"] = df[\"class\"]\n",
    "# df.drop([\"is_spam\", \"message\", \"class\"], axis=1, inplace=True)"
   ]
  },
  {
   "cell_type": "code",
   "execution_count": 4,
   "id": "3eb23e3b",
   "metadata": {},
   "outputs": [],
   "source": [
    "df = pd.read_csv(\"mail-data/mail_data.csv\")"
   ]
  },
  {
   "cell_type": "code",
   "execution_count": 11,
   "id": "0081c80b",
   "metadata": {
    "execution": {
     "iopub.execute_input": "2022-11-24T11:12:08.195771Z",
     "iopub.status.busy": "2022-11-24T11:12:08.195104Z",
     "iopub.status.idle": "2022-11-24T11:12:08.214975Z",
     "shell.execute_reply": "2022-11-24T11:12:08.213829Z"
    },
    "papermill": {
     "duration": 0.042078,
     "end_time": "2022-11-24T11:12:08.217754",
     "exception": false,
     "start_time": "2022-11-24T11:12:08.175676",
     "status": "completed"
    },
    "tags": []
   },
   "outputs": [
    {
     "data": {
      "text/plain": [
       "'from 12a1mailbot1@web.de  thu aug 22 13:17:22 2002return-path: <12a1mailbot1@web.de>delivered-to: zzzz@localhost.example.comreceived: from localhost (localhost [127.0.0.1])by phobos.labs.example.com (postfix) with esmtp id 136b943c32for <zzzz@localhost>; thu, 22 aug 2002 08:17:21 -0400 (edt)received: from mail.webnote.net [193.120.211.219]by localhost with pop3 (fetchmail-5.9.0)for zzzz@localhost (single-drop); thu, 22 aug 2002 13:17:21 +0100 (ist)received: from dd_it7 ([210.97.77.167])by webnote.net (8.9.3/8.9.3) with esmtp id naa04623for <zzzz@example.com>; thu, 22 aug 2002 13:09:41 +0100from: 12a1mailbot1@web.dereceived: from r-smtp.korea.com - 203.122.2.197 by dd_it7  with microsoft smtpsvc(5.5.1775.675.6); sat, 24 aug 2002 09:42:10 +0900to: <dcek1a1@netsgo.com>subject: life insurance - why pay more?date: wed, 21 aug 2002 20:31:57 -1600mime-version: 1.0message-id: <0103c1042001882dd_it7@dd_it7>content-type: text/html; charset=\"iso-8859-1\"content-transfer-encoding: quoted-printable<!doctype html public \"-//w3c//dtd html 4.0 transitional//en\"><html><head><meta content=3d\"text/html; charset=3dwindows-1252\" http-equiv=3dcontent-t=ype><meta content=3d\"mshtml 5.00.2314.1000\" name=3dgenerator></head><body><!-- inserted by calypso --><table border=3d0 cellpadding=3d0 cellspacing=3d2 id=3d_calyprintheader_ r=ules=3dnone style=3d\"color: black; display: none\" width=3d\"100%\">  <tbody>  <tr>    <td colspan=3d3>      <hr color=3dblack noshade size=3d1>    </td></tr></td></tr>  <tr>    <td colspan=3d3>      <hr color=3dblack noshade size=3d1>    </td></tr></tbody></table><!-- end calypso --><!-- inserted by calypso= --><font color=3d#000000 face=3dverdana,arial,helvetica size=3d-2><br></font></td><=/tr></table><!-- end calypso --><font color=3d#ff0000 face=3d\"copperplate gothic bold\" size=3d5 ptsize=3d\"10\"><center>save up to 70% on life insurance.</center></font><font color=3d#ff=0000 face=3d\"copperplate gothic bold\" size=3d5 ptsize=3d\"10\"><center>why spend more than you have to?<center><font color=3d#ff0000 face=3d\"copperplate gothic bold\" size=3d5 pt=size=3d\"10\"><center>life quote savings<center><p align=3dleft></p><p align=3dleft></p></font></u></i></b><br></font></u></b></u></i><p></p><center><table border=3d0 bordercolor=3d#111111 cellpadding=3d0 cellspacing=3d0 wi=dth=3d650>  <tbody></tbody></table><table border=3d0 bordercolor=3d#111111 cellpadding=3d5 cellspacing=3d0 wi=dth=3d650>  <tbody>  <tr>    <td colspan=3d2 width=3d\"35%\"><b><font face=3dverdana size=3d4>ensurin=g your       family\\'s financial security is very important. life quote savings ma=kes       buying life insurance simple and affordable. we provide free access =to the       very best companies and the lowest rates.</font></b></td></tr>  <tr>    <td align=3dmiddle valign=3dtop width=3d\"18%\">      <table bordercolor=3d#111111 width=3d\"100%\">        <tbody>        <tr>          <td style=3d\"padding-left: 5px; padding-right: 5px\" width=3d\"100=%\"><font             face=3dverdana size=3d4><b>life quote savings</b> is fast, eas=y and             saves you money! let us help you get started with the best val=ues in             the country on new coverage. you can save hundreds or even tho=usands             of dollars by requesting a free quote from lifequote savings. =our             service will take you less than 5 minutes to complete. shop an=d             compare. save up to 70% on all types of life insurance! </font></td></tr>        <tr><br><br>          <td height=3d50 style=3d\"padding-left: 5px; padding-right: 5px\"           width=3d\"100%\">            <p align=3dcenter><b><font face=3dverdana size=3d5><a             href=3d\"http://website.e365.cc/savequote/\">click here for your=             free quote!</a></font></b></p></td>          <p><font face=3dverdana size=3d4><strong>          <center>protecting your family is the best investment you\\'ll eve=r           make!<br></b></td></tr>        <tr><br><br></strong></font></td></tr></td></tr>        <tr></tr></tbody></table>      <p align=3dleft><font face=3d\"arial, helvetica, sans-serif\" size=3d2=></font></p>      <p></p>      <center><br><br><br>      <p></p>      <p align=3dleft><br></b><br><br><br><br></p>      <p align=3dcenter><br></p>      <p align=3dleft><br></b><br><br></font>if you are in receipt of this= email       in error and/or wish to be removed from our list, <a       href=3d\"mailto:coins@btamail.net.cn\">please click here</a> and type =remove. if you       reside in any state which prohibits e-mail solicitations for insuran=ce,       please disregard this       email.<br></font><br><br><br><br><br><br><br><br><br><br><br><br><br=><br><br><br></font></p></center></center></tr></tbody></table></center></=center></center></center></center></body></html>'"
      ]
     },
     "execution_count": 11,
     "metadata": {},
     "output_type": "execute_result"
    }
   ],
   "source": [
    "df.loc[1].emails"
   ]
  },
  {
   "cell_type": "code",
   "execution_count": 6,
   "id": "d48717c7",
   "metadata": {
    "execution": {
     "iopub.execute_input": "2022-11-24T11:12:08.253522Z",
     "iopub.status.busy": "2022-11-24T11:12:08.253062Z",
     "iopub.status.idle": "2022-11-24T11:12:08.264753Z",
     "shell.execute_reply": "2022-11-24T11:12:08.263457Z"
    },
    "papermill": {
     "duration": 0.032359,
     "end_time": "2022-11-24T11:12:08.267267",
     "exception": false,
     "start_time": "2022-11-24T11:12:08.234908",
     "status": "completed"
    },
    "tags": []
   },
   "outputs": [
    {
     "data": {
      "text/html": [
       "<div>\n",
       "<style scoped>\n",
       "    .dataframe tbody tr th:only-of-type {\n",
       "        vertical-align: middle;\n",
       "    }\n",
       "\n",
       "    .dataframe tbody tr th {\n",
       "        vertical-align: top;\n",
       "    }\n",
       "\n",
       "    .dataframe thead th {\n",
       "        text-align: right;\n",
       "    }\n",
       "</style>\n",
       "<table border=\"1\" class=\"dataframe\">\n",
       "  <thead>\n",
       "    <tr style=\"text-align: right;\">\n",
       "      <th></th>\n",
       "      <th>emails</th>\n",
       "      <th>label</th>\n",
       "    </tr>\n",
       "  </thead>\n",
       "  <tbody>\n",
       "    <tr>\n",
       "      <th>3047</th>\n",
       "      <td>from rssfeeds@jmason.org  thu oct 10 12:32:30 ...</td>\n",
       "      <td>0</td>\n",
       "    </tr>\n",
       "    <tr>\n",
       "      <th>3048</th>\n",
       "      <td>from rssfeeds@jmason.org  thu oct 10 12:32:31 ...</td>\n",
       "      <td>0</td>\n",
       "    </tr>\n",
       "    <tr>\n",
       "      <th>3049</th>\n",
       "      <td>from rssfeeds@jmason.org  thu oct 10 12:32:32 ...</td>\n",
       "      <td>0</td>\n",
       "    </tr>\n",
       "    <tr>\n",
       "      <th>3050</th>\n",
       "      <td>from rssfeeds@jmason.org  thu oct 10 12:32:34 ...</td>\n",
       "      <td>0</td>\n",
       "    </tr>\n",
       "    <tr>\n",
       "      <th>3051</th>\n",
       "      <td>from rssfeeds@jmason.org  thu oct 10 12:32:34 ...</td>\n",
       "      <td>0</td>\n",
       "    </tr>\n",
       "  </tbody>\n",
       "</table>\n",
       "</div>"
      ],
      "text/plain": [
       "                                                 emails  label\n",
       "3047  from rssfeeds@jmason.org  thu oct 10 12:32:30 ...      0\n",
       "3048  from rssfeeds@jmason.org  thu oct 10 12:32:31 ...      0\n",
       "3049  from rssfeeds@jmason.org  thu oct 10 12:32:32 ...      0\n",
       "3050  from rssfeeds@jmason.org  thu oct 10 12:32:34 ...      0\n",
       "3051  from rssfeeds@jmason.org  thu oct 10 12:32:34 ...      0"
      ]
     },
     "execution_count": 6,
     "metadata": {},
     "output_type": "execute_result"
    }
   ],
   "source": [
    "df.tail()"
   ]
  },
  {
   "cell_type": "code",
   "execution_count": 12,
   "id": "66f9fabd",
   "metadata": {
    "execution": {
     "iopub.execute_input": "2022-11-24T11:12:08.304658Z",
     "iopub.status.busy": "2022-11-24T11:12:08.304235Z",
     "iopub.status.idle": "2022-11-24T11:12:08.314906Z",
     "shell.execute_reply": "2022-11-24T11:12:08.313824Z"
    },
    "papermill": {
     "duration": 0.032783,
     "end_time": "2022-11-24T11:12:08.317364",
     "exception": false,
     "start_time": "2022-11-24T11:12:08.284581",
     "status": "completed"
    },
    "tags": []
   },
   "outputs": [],
   "source": [
    "encoder = LabelEncoder()\n",
    "df['label'] = encoder.fit_transform(df['label'])"
   ]
  },
  {
   "cell_type": "code",
   "execution_count": 13,
   "id": "a5b8ed2a",
   "metadata": {
    "execution": {
     "iopub.execute_input": "2022-11-24T11:12:08.353511Z",
     "iopub.status.busy": "2022-11-24T11:12:08.353097Z",
     "iopub.status.idle": "2022-11-24T11:12:08.367829Z",
     "shell.execute_reply": "2022-11-24T11:12:08.366515Z"
    },
    "papermill": {
     "duration": 0.036039,
     "end_time": "2022-11-24T11:12:08.370651",
     "exception": false,
     "start_time": "2022-11-24T11:12:08.334612",
     "status": "completed"
    },
    "tags": []
   },
   "outputs": [
    {
     "data": {
      "text/html": [
       "<div>\n",
       "<style scoped>\n",
       "    .dataframe tbody tr th:only-of-type {\n",
       "        vertical-align: middle;\n",
       "    }\n",
       "\n",
       "    .dataframe tbody tr th {\n",
       "        vertical-align: top;\n",
       "    }\n",
       "\n",
       "    .dataframe thead th {\n",
       "        text-align: right;\n",
       "    }\n",
       "</style>\n",
       "<table border=\"1\" class=\"dataframe\">\n",
       "  <thead>\n",
       "    <tr style=\"text-align: right;\">\n",
       "      <th></th>\n",
       "      <th>emails</th>\n",
       "      <th>label</th>\n",
       "    </tr>\n",
       "  </thead>\n",
       "  <tbody>\n",
       "    <tr>\n",
       "      <th>0</th>\n",
       "      <td>mv 1 00001.bfc8d64d12b325ff385cca8d07b84288\\nm...</td>\n",
       "      <td>1</td>\n",
       "    </tr>\n",
       "    <tr>\n",
       "      <th>1</th>\n",
       "      <td>From 12a1mailbot1@web.de  Thu Aug 22 13:17:22 ...</td>\n",
       "      <td>1</td>\n",
       "    </tr>\n",
       "    <tr>\n",
       "      <th>2</th>\n",
       "      <td>From ilug-admin@linux.ie  Thu Aug 22 13:27:39 ...</td>\n",
       "      <td>1</td>\n",
       "    </tr>\n",
       "    <tr>\n",
       "      <th>3</th>\n",
       "      <td>From sabrina@mx3.1premio.com  Thu Aug 22 14:44...</td>\n",
       "      <td>1</td>\n",
       "    </tr>\n",
       "    <tr>\n",
       "      <th>4</th>\n",
       "      <td>From wsup@playful.com  Thu Aug 22 16:17:00 200...</td>\n",
       "      <td>1</td>\n",
       "    </tr>\n",
       "    <tr>\n",
       "      <th>...</th>\n",
       "      <td>...</td>\n",
       "      <td>...</td>\n",
       "    </tr>\n",
       "    <tr>\n",
       "      <th>3047</th>\n",
       "      <td>From rssfeeds@jmason.org  Thu Oct 10 12:32:30 ...</td>\n",
       "      <td>0</td>\n",
       "    </tr>\n",
       "    <tr>\n",
       "      <th>3048</th>\n",
       "      <td>From rssfeeds@jmason.org  Thu Oct 10 12:32:31 ...</td>\n",
       "      <td>0</td>\n",
       "    </tr>\n",
       "    <tr>\n",
       "      <th>3049</th>\n",
       "      <td>From rssfeeds@jmason.org  Thu Oct 10 12:32:32 ...</td>\n",
       "      <td>0</td>\n",
       "    </tr>\n",
       "    <tr>\n",
       "      <th>3050</th>\n",
       "      <td>From rssfeeds@jmason.org  Thu Oct 10 12:32:34 ...</td>\n",
       "      <td>0</td>\n",
       "    </tr>\n",
       "    <tr>\n",
       "      <th>3051</th>\n",
       "      <td>From rssfeeds@jmason.org  Thu Oct 10 12:32:34 ...</td>\n",
       "      <td>0</td>\n",
       "    </tr>\n",
       "  </tbody>\n",
       "</table>\n",
       "<p>3052 rows × 2 columns</p>\n",
       "</div>"
      ],
      "text/plain": [
       "                                                 emails  label\n",
       "0     mv 1 00001.bfc8d64d12b325ff385cca8d07b84288\\nm...      1\n",
       "1     From 12a1mailbot1@web.de  Thu Aug 22 13:17:22 ...      1\n",
       "2     From ilug-admin@linux.ie  Thu Aug 22 13:27:39 ...      1\n",
       "3     From sabrina@mx3.1premio.com  Thu Aug 22 14:44...      1\n",
       "4     From wsup@playful.com  Thu Aug 22 16:17:00 200...      1\n",
       "...                                                 ...    ...\n",
       "3047  From rssfeeds@jmason.org  Thu Oct 10 12:32:30 ...      0\n",
       "3048  From rssfeeds@jmason.org  Thu Oct 10 12:32:31 ...      0\n",
       "3049  From rssfeeds@jmason.org  Thu Oct 10 12:32:32 ...      0\n",
       "3050  From rssfeeds@jmason.org  Thu Oct 10 12:32:34 ...      0\n",
       "3051  From rssfeeds@jmason.org  Thu Oct 10 12:32:34 ...      0\n",
       "\n",
       "[3052 rows x 2 columns]"
      ]
     },
     "execution_count": 13,
     "metadata": {},
     "output_type": "execute_result"
    }
   ],
   "source": [
    "df"
   ]
  },
  {
   "cell_type": "code",
   "execution_count": 14,
   "id": "9f51e830",
   "metadata": {
    "execution": {
     "iopub.execute_input": "2022-11-24T11:12:08.407754Z",
     "iopub.status.busy": "2022-11-24T11:12:08.407297Z",
     "iopub.status.idle": "2022-11-24T11:12:08.442554Z",
     "shell.execute_reply": "2022-11-24T11:12:08.441218Z"
    },
    "papermill": {
     "duration": 0.057221,
     "end_time": "2022-11-24T11:12:08.445527",
     "exception": false,
     "start_time": "2022-11-24T11:12:08.388306",
     "status": "completed"
    },
    "tags": []
   },
   "outputs": [],
   "source": [
    "df['emails'] = df['emails'].apply(lambda x : x.lower())"
   ]
  },
  {
   "cell_type": "code",
   "execution_count": 15,
   "id": "af2d5ff0",
   "metadata": {
    "execution": {
     "iopub.execute_input": "2022-11-24T11:12:08.482937Z",
     "iopub.status.busy": "2022-11-24T11:12:08.482530Z",
     "iopub.status.idle": "2022-11-24T11:12:08.498258Z",
     "shell.execute_reply": "2022-11-24T11:12:08.497041Z"
    },
    "papermill": {
     "duration": 0.03773,
     "end_time": "2022-11-24T11:12:08.500949",
     "exception": false,
     "start_time": "2022-11-24T11:12:08.463219",
     "status": "completed"
    },
    "tags": []
   },
   "outputs": [
    {
     "data": {
      "text/html": [
       "<div>\n",
       "<style scoped>\n",
       "    .dataframe tbody tr th:only-of-type {\n",
       "        vertical-align: middle;\n",
       "    }\n",
       "\n",
       "    .dataframe tbody tr th {\n",
       "        vertical-align: top;\n",
       "    }\n",
       "\n",
       "    .dataframe thead th {\n",
       "        text-align: right;\n",
       "    }\n",
       "</style>\n",
       "<table border=\"1\" class=\"dataframe\">\n",
       "  <thead>\n",
       "    <tr style=\"text-align: right;\">\n",
       "      <th></th>\n",
       "      <th>emails</th>\n",
       "      <th>label</th>\n",
       "    </tr>\n",
       "  </thead>\n",
       "  <tbody>\n",
       "    <tr>\n",
       "      <th>0</th>\n",
       "      <td>mv 1 00001.bfc8d64d12b325ff385cca8d07b84288\\nm...</td>\n",
       "      <td>1</td>\n",
       "    </tr>\n",
       "    <tr>\n",
       "      <th>1</th>\n",
       "      <td>from 12a1mailbot1@web.de  thu aug 22 13:17:22 ...</td>\n",
       "      <td>1</td>\n",
       "    </tr>\n",
       "    <tr>\n",
       "      <th>2</th>\n",
       "      <td>from ilug-admin@linux.ie  thu aug 22 13:27:39 ...</td>\n",
       "      <td>1</td>\n",
       "    </tr>\n",
       "    <tr>\n",
       "      <th>3</th>\n",
       "      <td>from sabrina@mx3.1premio.com  thu aug 22 14:44...</td>\n",
       "      <td>1</td>\n",
       "    </tr>\n",
       "    <tr>\n",
       "      <th>4</th>\n",
       "      <td>from wsup@playful.com  thu aug 22 16:17:00 200...</td>\n",
       "      <td>1</td>\n",
       "    </tr>\n",
       "    <tr>\n",
       "      <th>...</th>\n",
       "      <td>...</td>\n",
       "      <td>...</td>\n",
       "    </tr>\n",
       "    <tr>\n",
       "      <th>3047</th>\n",
       "      <td>from rssfeeds@jmason.org  thu oct 10 12:32:30 ...</td>\n",
       "      <td>0</td>\n",
       "    </tr>\n",
       "    <tr>\n",
       "      <th>3048</th>\n",
       "      <td>from rssfeeds@jmason.org  thu oct 10 12:32:31 ...</td>\n",
       "      <td>0</td>\n",
       "    </tr>\n",
       "    <tr>\n",
       "      <th>3049</th>\n",
       "      <td>from rssfeeds@jmason.org  thu oct 10 12:32:32 ...</td>\n",
       "      <td>0</td>\n",
       "    </tr>\n",
       "    <tr>\n",
       "      <th>3050</th>\n",
       "      <td>from rssfeeds@jmason.org  thu oct 10 12:32:34 ...</td>\n",
       "      <td>0</td>\n",
       "    </tr>\n",
       "    <tr>\n",
       "      <th>3051</th>\n",
       "      <td>from rssfeeds@jmason.org  thu oct 10 12:32:34 ...</td>\n",
       "      <td>0</td>\n",
       "    </tr>\n",
       "  </tbody>\n",
       "</table>\n",
       "<p>3052 rows × 2 columns</p>\n",
       "</div>"
      ],
      "text/plain": [
       "                                                 emails  label\n",
       "0     mv 1 00001.bfc8d64d12b325ff385cca8d07b84288\\nm...      1\n",
       "1     from 12a1mailbot1@web.de  thu aug 22 13:17:22 ...      1\n",
       "2     from ilug-admin@linux.ie  thu aug 22 13:27:39 ...      1\n",
       "3     from sabrina@mx3.1premio.com  thu aug 22 14:44...      1\n",
       "4     from wsup@playful.com  thu aug 22 16:17:00 200...      1\n",
       "...                                                 ...    ...\n",
       "3047  from rssfeeds@jmason.org  thu oct 10 12:32:30 ...      0\n",
       "3048  from rssfeeds@jmason.org  thu oct 10 12:32:31 ...      0\n",
       "3049  from rssfeeds@jmason.org  thu oct 10 12:32:32 ...      0\n",
       "3050  from rssfeeds@jmason.org  thu oct 10 12:32:34 ...      0\n",
       "3051  from rssfeeds@jmason.org  thu oct 10 12:32:34 ...      0\n",
       "\n",
       "[3052 rows x 2 columns]"
      ]
     },
     "execution_count": 15,
     "metadata": {},
     "output_type": "execute_result"
    }
   ],
   "source": [
    "df"
   ]
  },
  {
   "cell_type": "code",
   "execution_count": 16,
   "id": "e8847354",
   "metadata": {
    "execution": {
     "iopub.execute_input": "2022-11-24T11:12:08.538459Z",
     "iopub.status.busy": "2022-11-24T11:12:08.538011Z",
     "iopub.status.idle": "2022-11-24T11:12:08.604470Z",
     "shell.execute_reply": "2022-11-24T11:12:08.603490Z"
    },
    "papermill": {
     "duration": 0.088388,
     "end_time": "2022-11-24T11:12:08.607193",
     "exception": false,
     "start_time": "2022-11-24T11:12:08.518805",
     "status": "completed"
    },
    "tags": []
   },
   "outputs": [],
   "source": [
    "df['emails'] = df['emails'].apply(lambda x:x.replace('\\n',''))\n",
    "df['emails'] = df['emails'].apply(lambda x:x.replace('\\t',''))"
   ]
  },
  {
   "cell_type": "code",
   "execution_count": 17,
   "id": "8f33f30a",
   "metadata": {},
   "outputs": [],
   "source": [
    "df.to_csv(\"mail-data/processed_mail_data.csv\", index=False)"
   ]
  },
  {
   "cell_type": "code",
   "execution_count": 21,
   "id": "2f555c2e",
   "metadata": {},
   "outputs": [
    {
     "name": "stderr",
     "output_type": "stream",
     "text": [
      "[nltk_data] Downloading package stopwords to\n",
      "[nltk_data]     C:\\Users\\Иван\\AppData\\Roaming\\nltk_data...\n",
      "[nltk_data]   Package stopwords is already up-to-date!\n",
      "[nltk_data] Downloading package wordnet to\n",
      "[nltk_data]     C:\\Users\\Иван\\AppData\\Roaming\\nltk_data...\n",
      "[nltk_data]   Package wordnet is already up-to-date!\n",
      "[nltk_data] Downloading package omw-1.4 to\n",
      "[nltk_data]     C:\\Users\\Иван\\AppData\\Roaming\\nltk_data...\n",
      "[nltk_data]   Package omw-1.4 is already up-to-date!\n"
     ]
    },
    {
     "data": {
      "text/plain": [
       "True"
      ]
     },
     "execution_count": 21,
     "metadata": {},
     "output_type": "execute_result"
    }
   ],
   "source": [
    "nltk.download('stopwords')\n",
    "nltk.download('wordnet')\n",
    "nltk.download('omw-1.4')"
   ]
  },
  {
   "cell_type": "code",
   "execution_count": 43,
   "id": "b5ef2780",
   "metadata": {
    "execution": {
     "iopub.execute_input": "2022-11-24T11:12:08.702138Z",
     "iopub.status.busy": "2022-11-24T11:12:08.701711Z",
     "iopub.status.idle": "2022-11-24T11:15:06.501107Z",
     "shell.execute_reply": "2022-11-24T11:15:06.499719Z"
    },
    "papermill": {
     "duration": 177.822586,
     "end_time": "2022-11-24T11:15:06.504203",
     "exception": false,
     "start_time": "2022-11-24T11:12:08.681617",
     "status": "completed"
    },
    "tags": []
   },
   "outputs": [],
   "source": [
    "lemm = WordNetLemmatizer()\n",
    "processed_text = []\n",
    "\n",
    "for i in range(len(df)) :\n",
    "    text = re.sub('^a-zA-z',' ',df['emails'][i])\n",
    "    words = text.split()\n",
    "    words = [lemm.lemmatize(word) for word in words if word not in set(stopwords.words('english'))]\n",
    "    text_p = ' '.join(words)\n",
    "    processed_text.append(text_p)"
   ]
  },
  {
   "cell_type": "code",
   "execution_count": 44,
   "id": "dca7c78b",
   "metadata": {
    "execution": {
     "iopub.execute_input": "2022-11-24T11:15:06.546752Z",
     "iopub.status.busy": "2022-11-24T11:15:06.545147Z",
     "iopub.status.idle": "2022-11-24T11:15:09.201548Z",
     "shell.execute_reply": "2022-11-24T11:15:09.200401Z"
    },
    "papermill": {
     "duration": 2.679676,
     "end_time": "2022-11-24T11:15:09.204362",
     "exception": false,
     "start_time": "2022-11-24T11:15:06.524686",
     "status": "completed"
    },
    "tags": []
   },
   "outputs": [],
   "source": [
    "cv = CountVectorizer()\n",
    "X = cv.fit_transform(processed_text).toarray()"
   ]
  },
  {
   "cell_type": "code",
   "execution_count": 45,
   "id": "03ad600a",
   "metadata": {
    "execution": {
     "iopub.execute_input": "2022-11-24T11:15:09.314382Z",
     "iopub.status.busy": "2022-11-24T11:15:09.313378Z",
     "iopub.status.idle": "2022-11-24T11:15:09.321247Z",
     "shell.execute_reply": "2022-11-24T11:15:09.319917Z"
    },
    "papermill": {
     "duration": 0.033678,
     "end_time": "2022-11-24T11:15:09.323462",
     "exception": false,
     "start_time": "2022-11-24T11:15:09.289784",
     "status": "completed"
    },
    "tags": []
   },
   "outputs": [
    {
     "data": {
      "text/plain": [
       "(3052, 91924)"
      ]
     },
     "execution_count": 45,
     "metadata": {},
     "output_type": "execute_result"
    }
   ],
   "source": [
    "X.shape"
   ]
  },
  {
   "cell_type": "code",
   "execution_count": 46,
   "id": "86f164e3",
   "metadata": {
    "execution": {
     "iopub.execute_input": "2022-11-24T11:15:09.361972Z",
     "iopub.status.busy": "2022-11-24T11:15:09.361156Z",
     "iopub.status.idle": "2022-11-24T11:15:09.366319Z",
     "shell.execute_reply": "2022-11-24T11:15:09.365462Z"
    },
    "papermill": {
     "duration": 0.027111,
     "end_time": "2022-11-24T11:15:09.368748",
     "exception": false,
     "start_time": "2022-11-24T11:15:09.341637",
     "status": "completed"
    },
    "tags": []
   },
   "outputs": [],
   "source": [
    "y = df['label']"
   ]
  },
  {
   "cell_type": "code",
   "execution_count": 47,
   "id": "682cb883",
   "metadata": {
    "execution": {
     "iopub.execute_input": "2022-11-24T11:15:09.407394Z",
     "iopub.status.busy": "2022-11-24T11:15:09.406769Z",
     "iopub.status.idle": "2022-11-24T11:15:10.810195Z",
     "shell.execute_reply": "2022-11-24T11:15:10.808810Z"
    },
    "papermill": {
     "duration": 1.42604,
     "end_time": "2022-11-24T11:15:10.813031",
     "exception": false,
     "start_time": "2022-11-24T11:15:09.386991",
     "status": "completed"
    },
    "tags": []
   },
   "outputs": [],
   "source": [
    "\n",
    "X_train, X_test, y_train, y_test = train_test_split(X, y, test_size = 0.2, random_state = 5)"
   ]
  },
  {
   "cell_type": "code",
   "execution_count": 48,
   "id": "ae15c389",
   "metadata": {
    "execution": {
     "iopub.execute_input": "2022-11-24T11:15:10.853082Z",
     "iopub.status.busy": "2022-11-24T11:15:10.852019Z",
     "iopub.status.idle": "2022-11-24T11:15:10.860211Z",
     "shell.execute_reply": "2022-11-24T11:15:10.859114Z"
    },
    "papermill": {
     "duration": 0.031147,
     "end_time": "2022-11-24T11:15:10.862962",
     "exception": false,
     "start_time": "2022-11-24T11:15:10.831815",
     "status": "completed"
    },
    "tags": []
   },
   "outputs": [],
   "source": [
    "model = MultinomialNB()"
   ]
  },
  {
   "cell_type": "code",
   "execution_count": 49,
   "id": "8c3d43ed",
   "metadata": {
    "execution": {
     "iopub.execute_input": "2022-11-24T11:15:10.900674Z",
     "iopub.status.busy": "2022-11-24T11:15:10.900215Z",
     "iopub.status.idle": "2022-11-24T11:15:12.613461Z",
     "shell.execute_reply": "2022-11-24T11:15:12.612198Z"
    },
    "papermill": {
     "duration": 1.73521,
     "end_time": "2022-11-24T11:15:12.616150",
     "exception": false,
     "start_time": "2022-11-24T11:15:10.880940",
     "status": "completed"
    },
    "tags": []
   },
   "outputs": [
    {
     "data": {
      "text/plain": [
       "MultinomialNB()"
      ]
     },
     "execution_count": 49,
     "metadata": {},
     "output_type": "execute_result"
    }
   ],
   "source": [
    "model.fit(X_train,y_train)"
   ]
  },
  {
   "cell_type": "code",
   "execution_count": 50,
   "id": "68a47a1f",
   "metadata": {
    "execution": {
     "iopub.execute_input": "2022-11-24T11:15:12.654994Z",
     "iopub.status.busy": "2022-11-24T11:15:12.654591Z",
     "iopub.status.idle": "2022-11-24T11:15:12.936799Z",
     "shell.execute_reply": "2022-11-24T11:15:12.935058Z"
    },
    "papermill": {
     "duration": 0.306475,
     "end_time": "2022-11-24T11:15:12.941200",
     "exception": false,
     "start_time": "2022-11-24T11:15:12.634725",
     "status": "completed"
    },
    "tags": []
   },
   "outputs": [],
   "source": [
    "y_pred = model.predict(X_test)"
   ]
  },
  {
   "cell_type": "code",
   "execution_count": 51,
   "id": "ade78b50",
   "metadata": {},
   "outputs": [
    {
     "name": "stdout",
     "output_type": "stream",
     "text": [
      "[[510   0]\n",
      " [  9  92]]\n",
      "accuracy:0.9852700490998363\n",
      "precision:0.9855254817744056\n",
      "recall:0.9852700490998363\n",
      "f1-score:0.9849910213436949\n"
     ]
    }
   ],
   "source": [
    "from sklearn.metrics import confusion_matrix, precision_score, accuracy_score,recall_score, f1_score,roc_auc_score\n",
    "\n",
    "print(confusion_matrix(y_test, y_pred))\n",
    "print('accuracy:{}'.format(accuracy_score(y_test, y_pred)))\n",
    "print('precision:{}'.format(precision_score(y_test, y_pred ,average='weighted')))\n",
    "print('recall:{}'.format(recall_score(y_test, y_pred, average='weighted')))\n",
    "print('f1-score:{}'.format(f1_score(y_test, y_pred, average='weighted')))"
   ]
  },
  {
   "cell_type": "code",
   "execution_count": 27,
   "id": "2c6f6cb0",
   "metadata": {},
   "outputs": [],
   "source": [
    "def build_conf_matrix(labels, predict, class_name):\n",
    "    lab, pred = [], []\n",
    "    for i in range(len(labels)):\n",
    "        if predict[i] == class_name:\n",
    "            pred.append(0)\n",
    "        else:\n",
    "            pred.append(1)\n",
    "        if labels[i] == class_name:\n",
    "            lab.append(0)\n",
    "        else:\n",
    "            lab.append(1)\n",
    "    return confusion_matrix(lab, pred, normalize='true')"
   ]
  },
  {
   "cell_type": "code",
   "execution_count": 41,
   "id": "dfaddf9f",
   "metadata": {},
   "outputs": [
    {
     "name": "stdout",
     "output_type": "stream",
     "text": [
      "1\n"
     ]
    }
   ],
   "source": [
    "for elem in df[\"label\"]:\n",
    "    break"
   ]
  },
  {
   "cell_type": "code",
   "execution_count": 42,
   "id": "40295164",
   "metadata": {},
   "outputs": [
    {
     "data": {
      "text/html": [
       "<div>\n",
       "<style scoped>\n",
       "    .dataframe tbody tr th:only-of-type {\n",
       "        vertical-align: middle;\n",
       "    }\n",
       "\n",
       "    .dataframe tbody tr th {\n",
       "        vertical-align: top;\n",
       "    }\n",
       "\n",
       "    .dataframe thead th {\n",
       "        text-align: right;\n",
       "    }\n",
       "</style>\n",
       "<table border=\"1\" class=\"dataframe\">\n",
       "  <thead>\n",
       "    <tr style=\"text-align: right;\">\n",
       "      <th></th>\n",
       "      <th>emails</th>\n",
       "      <th>label</th>\n",
       "    </tr>\n",
       "  </thead>\n",
       "  <tbody>\n",
       "    <tr>\n",
       "      <th>0</th>\n",
       "      <td>mv 1 00001.bfc8d64d12b325ff385cca8d07b84288mv ...</td>\n",
       "      <td>Spam</td>\n",
       "    </tr>\n",
       "    <tr>\n",
       "      <th>1</th>\n",
       "      <td>from 12a1mailbot1@web.de  thu aug 22 13:17:22 ...</td>\n",
       "      <td>Spam</td>\n",
       "    </tr>\n",
       "    <tr>\n",
       "      <th>2</th>\n",
       "      <td>from ilug-admin@linux.ie  thu aug 22 13:27:39 ...</td>\n",
       "      <td>Spam</td>\n",
       "    </tr>\n",
       "    <tr>\n",
       "      <th>3</th>\n",
       "      <td>from sabrina@mx3.1premio.com  thu aug 22 14:44...</td>\n",
       "      <td>Spam</td>\n",
       "    </tr>\n",
       "    <tr>\n",
       "      <th>4</th>\n",
       "      <td>from wsup@playful.com  thu aug 22 16:17:00 200...</td>\n",
       "      <td>Spam</td>\n",
       "    </tr>\n",
       "    <tr>\n",
       "      <th>...</th>\n",
       "      <td>...</td>\n",
       "      <td>...</td>\n",
       "    </tr>\n",
       "    <tr>\n",
       "      <th>3047</th>\n",
       "      <td>from rssfeeds@jmason.org  thu oct 10 12:32:30 ...</td>\n",
       "      <td>Ham</td>\n",
       "    </tr>\n",
       "    <tr>\n",
       "      <th>3048</th>\n",
       "      <td>from rssfeeds@jmason.org  thu oct 10 12:32:31 ...</td>\n",
       "      <td>Ham</td>\n",
       "    </tr>\n",
       "    <tr>\n",
       "      <th>3049</th>\n",
       "      <td>from rssfeeds@jmason.org  thu oct 10 12:32:32 ...</td>\n",
       "      <td>Ham</td>\n",
       "    </tr>\n",
       "    <tr>\n",
       "      <th>3050</th>\n",
       "      <td>from rssfeeds@jmason.org  thu oct 10 12:32:34 ...</td>\n",
       "      <td>Ham</td>\n",
       "    </tr>\n",
       "    <tr>\n",
       "      <th>3051</th>\n",
       "      <td>from rssfeeds@jmason.org  thu oct 10 12:32:34 ...</td>\n",
       "      <td>Ham</td>\n",
       "    </tr>\n",
       "  </tbody>\n",
       "</table>\n",
       "<p>3052 rows × 2 columns</p>\n",
       "</div>"
      ],
      "text/plain": [
       "                                                 emails label\n",
       "0     mv 1 00001.bfc8d64d12b325ff385cca8d07b84288mv ...  Spam\n",
       "1     from 12a1mailbot1@web.de  thu aug 22 13:17:22 ...  Spam\n",
       "2     from ilug-admin@linux.ie  thu aug 22 13:27:39 ...  Spam\n",
       "3     from sabrina@mx3.1premio.com  thu aug 22 14:44...  Spam\n",
       "4     from wsup@playful.com  thu aug 22 16:17:00 200...  Spam\n",
       "...                                                 ...   ...\n",
       "3047  from rssfeeds@jmason.org  thu oct 10 12:32:30 ...   Ham\n",
       "3048  from rssfeeds@jmason.org  thu oct 10 12:32:31 ...   Ham\n",
       "3049  from rssfeeds@jmason.org  thu oct 10 12:32:32 ...   Ham\n",
       "3050  from rssfeeds@jmason.org  thu oct 10 12:32:34 ...   Ham\n",
       "3051  from rssfeeds@jmason.org  thu oct 10 12:32:34 ...   Ham\n",
       "\n",
       "[3052 rows x 2 columns]"
      ]
     },
     "execution_count": 42,
     "metadata": {},
     "output_type": "execute_result"
    }
   ],
   "source": [
    "df[\"label\"] = [get_res[elem] for elem in df[\"label\"]]\n",
    "df"
   ]
  },
  {
   "cell_type": "code",
   "execution_count": 28,
   "id": "211b7d20",
   "metadata": {},
   "outputs": [],
   "source": [
    "get_res = {0: \"Ham\", 1: \"Spam\"}"
   ]
  },
  {
   "cell_type": "code",
   "execution_count": 52,
   "id": "962e4802",
   "metadata": {},
   "outputs": [
    {
     "ename": "KeyError",
     "evalue": "1",
     "output_type": "error",
     "traceback": [
      "\u001b[1;31m---------------------------------------------------------------------------\u001b[0m",
      "\u001b[1;31mKeyError\u001b[0m                                  Traceback (most recent call last)",
      "\u001b[1;32m~\\AppData\\Local\\Packages\\PythonSoftwareFoundation.Python.3.9_qbz5n2kfra8p0\\LocalCache\\local-packages\\Python39\\site-packages\\pandas\\core\\indexes\\base.py\u001b[0m in \u001b[0;36mget_loc\u001b[1;34m(self, key, method, tolerance)\u001b[0m\n\u001b[0;32m   3620\u001b[0m             \u001b[1;32mtry\u001b[0m\u001b[1;33m:\u001b[0m\u001b[1;33m\u001b[0m\u001b[1;33m\u001b[0m\u001b[0m\n\u001b[1;32m-> 3621\u001b[1;33m                 \u001b[1;32mreturn\u001b[0m \u001b[0mself\u001b[0m\u001b[1;33m.\u001b[0m\u001b[0m_engine\u001b[0m\u001b[1;33m.\u001b[0m\u001b[0mget_loc\u001b[0m\u001b[1;33m(\u001b[0m\u001b[0mcasted_key\u001b[0m\u001b[1;33m)\u001b[0m\u001b[1;33m\u001b[0m\u001b[1;33m\u001b[0m\u001b[0m\n\u001b[0m\u001b[0;32m   3622\u001b[0m             \u001b[1;32mexcept\u001b[0m \u001b[0mKeyError\u001b[0m \u001b[1;32mas\u001b[0m \u001b[0merr\u001b[0m\u001b[1;33m:\u001b[0m\u001b[1;33m\u001b[0m\u001b[1;33m\u001b[0m\u001b[0m\n",
      "\u001b[1;32m~\\AppData\\Local\\Packages\\PythonSoftwareFoundation.Python.3.9_qbz5n2kfra8p0\\LocalCache\\local-packages\\Python39\\site-packages\\pandas\\_libs\\index.pyx\u001b[0m in \u001b[0;36mpandas._libs.index.IndexEngine.get_loc\u001b[1;34m()\u001b[0m\n",
      "\u001b[1;32m~\\AppData\\Local\\Packages\\PythonSoftwareFoundation.Python.3.9_qbz5n2kfra8p0\\LocalCache\\local-packages\\Python39\\site-packages\\pandas\\_libs\\index.pyx\u001b[0m in \u001b[0;36mpandas._libs.index.IndexEngine.get_loc\u001b[1;34m()\u001b[0m\n",
      "\u001b[1;32mpandas\\_libs\\hashtable_class_helper.pxi\u001b[0m in \u001b[0;36mpandas._libs.hashtable.Int64HashTable.get_item\u001b[1;34m()\u001b[0m\n",
      "\u001b[1;32mpandas\\_libs\\hashtable_class_helper.pxi\u001b[0m in \u001b[0;36mpandas._libs.hashtable.Int64HashTable.get_item\u001b[1;34m()\u001b[0m\n",
      "\u001b[1;31mKeyError\u001b[0m: 1",
      "\nThe above exception was the direct cause of the following exception:\n",
      "\u001b[1;31mKeyError\u001b[0m                                  Traceback (most recent call last)",
      "\u001b[1;32mC:\\Users\\3C8A~1\\AppData\\Local\\Temp/ipykernel_16564/830576424.py\u001b[0m in \u001b[0;36m<module>\u001b[1;34m\u001b[0m\n\u001b[0;32m      7\u001b[0m     \u001b[1;31m# print(\"TP: \", true_pos / (true_pos + false_neg))\u001b[0m\u001b[1;33m\u001b[0m\u001b[1;33m\u001b[0m\u001b[0m\n\u001b[0;32m      8\u001b[0m     \u001b[1;31m# continue\u001b[0m\u001b[1;33m\u001b[0m\u001b[1;33m\u001b[0m\u001b[0m\n\u001b[1;32m----> 9\u001b[1;33m     \u001b[0mheatmap\u001b[0m \u001b[1;33m=\u001b[0m \u001b[0msns\u001b[0m\u001b[1;33m.\u001b[0m\u001b[0mheatmap\u001b[0m\u001b[1;33m(\u001b[0m\u001b[0mbuild_conf_matrix\u001b[0m\u001b[1;33m(\u001b[0m\u001b[0my_test\u001b[0m\u001b[1;33m,\u001b[0m \u001b[0my_pred\u001b[0m\u001b[1;33m,\u001b[0m \u001b[0mi\u001b[0m\u001b[1;33m)\u001b[0m\u001b[1;33m,\u001b[0m \u001b[0mannot\u001b[0m\u001b[1;33m=\u001b[0m\u001b[1;32mTrue\u001b[0m\u001b[1;33m,\u001b[0m \u001b[0mcmap\u001b[0m\u001b[1;33m=\u001b[0m\u001b[1;34m'YlGnBu'\u001b[0m\u001b[1;33m)\u001b[0m\u001b[1;33m\u001b[0m\u001b[1;33m\u001b[0m\u001b[0m\n\u001b[0m\u001b[0;32m     10\u001b[0m     \u001b[0mheatmap\u001b[0m\u001b[1;33m.\u001b[0m\u001b[0mset_title\u001b[0m\u001b[1;33m(\u001b[0m\u001b[0mget_res\u001b[0m\u001b[1;33m[\u001b[0m\u001b[0mi\u001b[0m\u001b[1;33m]\u001b[0m\u001b[1;33m,\u001b[0m \u001b[0mfontdict\u001b[0m\u001b[1;33m=\u001b[0m\u001b[1;33m{\u001b[0m\u001b[1;34m'fontsize'\u001b[0m\u001b[1;33m:\u001b[0m\u001b[1;36m14\u001b[0m\u001b[1;33m}\u001b[0m\u001b[1;33m,\u001b[0m \u001b[0mpad\u001b[0m\u001b[1;33m=\u001b[0m\u001b[1;36m10\u001b[0m\u001b[1;33m)\u001b[0m\u001b[1;33m\u001b[0m\u001b[1;33m\u001b[0m\u001b[0m\n\u001b[0;32m     11\u001b[0m     \u001b[1;31m# set x-axis label and ticks.\u001b[0m\u001b[1;33m\u001b[0m\u001b[1;33m\u001b[0m\u001b[0m\n",
      "\u001b[1;32mC:\\Users\\3C8A~1\\AppData\\Local\\Temp/ipykernel_16564/1221875840.py\u001b[0m in \u001b[0;36mbuild_conf_matrix\u001b[1;34m(labels, predict, class_name)\u001b[0m\n\u001b[0;32m      6\u001b[0m         \u001b[1;32melse\u001b[0m\u001b[1;33m:\u001b[0m\u001b[1;33m\u001b[0m\u001b[1;33m\u001b[0m\u001b[0m\n\u001b[0;32m      7\u001b[0m             \u001b[0mpred\u001b[0m\u001b[1;33m.\u001b[0m\u001b[0mappend\u001b[0m\u001b[1;33m(\u001b[0m\u001b[1;36m1\u001b[0m\u001b[1;33m)\u001b[0m\u001b[1;33m\u001b[0m\u001b[1;33m\u001b[0m\u001b[0m\n\u001b[1;32m----> 8\u001b[1;33m         \u001b[1;32mif\u001b[0m \u001b[0mlabels\u001b[0m\u001b[1;33m[\u001b[0m\u001b[0mi\u001b[0m\u001b[1;33m]\u001b[0m \u001b[1;33m==\u001b[0m \u001b[0mclass_name\u001b[0m\u001b[1;33m:\u001b[0m\u001b[1;33m\u001b[0m\u001b[1;33m\u001b[0m\u001b[0m\n\u001b[0m\u001b[0;32m      9\u001b[0m             \u001b[0mlab\u001b[0m\u001b[1;33m.\u001b[0m\u001b[0mappend\u001b[0m\u001b[1;33m(\u001b[0m\u001b[1;36m0\u001b[0m\u001b[1;33m)\u001b[0m\u001b[1;33m\u001b[0m\u001b[1;33m\u001b[0m\u001b[0m\n\u001b[0;32m     10\u001b[0m         \u001b[1;32melse\u001b[0m\u001b[1;33m:\u001b[0m\u001b[1;33m\u001b[0m\u001b[1;33m\u001b[0m\u001b[0m\n",
      "\u001b[1;32m~\\AppData\\Local\\Packages\\PythonSoftwareFoundation.Python.3.9_qbz5n2kfra8p0\\LocalCache\\local-packages\\Python39\\site-packages\\pandas\\core\\series.py\u001b[0m in \u001b[0;36m__getitem__\u001b[1;34m(self, key)\u001b[0m\n\u001b[0;32m    957\u001b[0m \u001b[1;33m\u001b[0m\u001b[0m\n\u001b[0;32m    958\u001b[0m         \u001b[1;32melif\u001b[0m \u001b[0mkey_is_scalar\u001b[0m\u001b[1;33m:\u001b[0m\u001b[1;33m\u001b[0m\u001b[1;33m\u001b[0m\u001b[0m\n\u001b[1;32m--> 959\u001b[1;33m             \u001b[1;32mreturn\u001b[0m \u001b[0mself\u001b[0m\u001b[1;33m.\u001b[0m\u001b[0m_get_value\u001b[0m\u001b[1;33m(\u001b[0m\u001b[0mkey\u001b[0m\u001b[1;33m)\u001b[0m\u001b[1;33m\u001b[0m\u001b[1;33m\u001b[0m\u001b[0m\n\u001b[0m\u001b[0;32m    960\u001b[0m \u001b[1;33m\u001b[0m\u001b[0m\n\u001b[0;32m    961\u001b[0m         \u001b[1;32mif\u001b[0m \u001b[0mis_hashable\u001b[0m\u001b[1;33m(\u001b[0m\u001b[0mkey\u001b[0m\u001b[1;33m)\u001b[0m\u001b[1;33m:\u001b[0m\u001b[1;33m\u001b[0m\u001b[1;33m\u001b[0m\u001b[0m\n",
      "\u001b[1;32m~\\AppData\\Local\\Packages\\PythonSoftwareFoundation.Python.3.9_qbz5n2kfra8p0\\LocalCache\\local-packages\\Python39\\site-packages\\pandas\\core\\series.py\u001b[0m in \u001b[0;36m_get_value\u001b[1;34m(self, label, takeable)\u001b[0m\n\u001b[0;32m   1068\u001b[0m \u001b[1;33m\u001b[0m\u001b[0m\n\u001b[0;32m   1069\u001b[0m         \u001b[1;31m# Similar to Index.get_value, but we do not fall back to positional\u001b[0m\u001b[1;33m\u001b[0m\u001b[1;33m\u001b[0m\u001b[0m\n\u001b[1;32m-> 1070\u001b[1;33m         \u001b[0mloc\u001b[0m \u001b[1;33m=\u001b[0m \u001b[0mself\u001b[0m\u001b[1;33m.\u001b[0m\u001b[0mindex\u001b[0m\u001b[1;33m.\u001b[0m\u001b[0mget_loc\u001b[0m\u001b[1;33m(\u001b[0m\u001b[0mlabel\u001b[0m\u001b[1;33m)\u001b[0m\u001b[1;33m\u001b[0m\u001b[1;33m\u001b[0m\u001b[0m\n\u001b[0m\u001b[0;32m   1071\u001b[0m         \u001b[1;32mreturn\u001b[0m \u001b[0mself\u001b[0m\u001b[1;33m.\u001b[0m\u001b[0mindex\u001b[0m\u001b[1;33m.\u001b[0m\u001b[0m_get_values_for_loc\u001b[0m\u001b[1;33m(\u001b[0m\u001b[0mself\u001b[0m\u001b[1;33m,\u001b[0m \u001b[0mloc\u001b[0m\u001b[1;33m,\u001b[0m \u001b[0mlabel\u001b[0m\u001b[1;33m)\u001b[0m\u001b[1;33m\u001b[0m\u001b[1;33m\u001b[0m\u001b[0m\n\u001b[0;32m   1072\u001b[0m \u001b[1;33m\u001b[0m\u001b[0m\n",
      "\u001b[1;32m~\\AppData\\Local\\Packages\\PythonSoftwareFoundation.Python.3.9_qbz5n2kfra8p0\\LocalCache\\local-packages\\Python39\\site-packages\\pandas\\core\\indexes\\base.py\u001b[0m in \u001b[0;36mget_loc\u001b[1;34m(self, key, method, tolerance)\u001b[0m\n\u001b[0;32m   3621\u001b[0m                 \u001b[1;32mreturn\u001b[0m \u001b[0mself\u001b[0m\u001b[1;33m.\u001b[0m\u001b[0m_engine\u001b[0m\u001b[1;33m.\u001b[0m\u001b[0mget_loc\u001b[0m\u001b[1;33m(\u001b[0m\u001b[0mcasted_key\u001b[0m\u001b[1;33m)\u001b[0m\u001b[1;33m\u001b[0m\u001b[1;33m\u001b[0m\u001b[0m\n\u001b[0;32m   3622\u001b[0m             \u001b[1;32mexcept\u001b[0m \u001b[0mKeyError\u001b[0m \u001b[1;32mas\u001b[0m \u001b[0merr\u001b[0m\u001b[1;33m:\u001b[0m\u001b[1;33m\u001b[0m\u001b[1;33m\u001b[0m\u001b[0m\n\u001b[1;32m-> 3623\u001b[1;33m                 \u001b[1;32mraise\u001b[0m \u001b[0mKeyError\u001b[0m\u001b[1;33m(\u001b[0m\u001b[0mkey\u001b[0m\u001b[1;33m)\u001b[0m \u001b[1;32mfrom\u001b[0m \u001b[0merr\u001b[0m\u001b[1;33m\u001b[0m\u001b[1;33m\u001b[0m\u001b[0m\n\u001b[0m\u001b[0;32m   3624\u001b[0m             \u001b[1;32mexcept\u001b[0m \u001b[0mTypeError\u001b[0m\u001b[1;33m:\u001b[0m\u001b[1;33m\u001b[0m\u001b[1;33m\u001b[0m\u001b[0m\n\u001b[0;32m   3625\u001b[0m                 \u001b[1;31m# If we have a listlike key, _check_indexing_error will raise\u001b[0m\u001b[1;33m\u001b[0m\u001b[1;33m\u001b[0m\u001b[0m\n",
      "\u001b[1;31mKeyError\u001b[0m: 1"
     ]
    }
   ],
   "source": [
    "import matplotlib.pyplot as plt\n",
    "import seaborn as sns\n",
    "for i in range(2):\n",
    "    # conf_m = build_conf_matrix(l, c, i)\n",
    "    # true_neg, false_pos, false_neg, true_pos = conf_m.ravel()\n",
    "    # print(true_neg, false_pos, false_neg, true_pos)\n",
    "    # print(\"TP: \", true_pos / (true_pos + false_neg))\n",
    "    # continue\n",
    "    heatmap = sns.heatmap(build_conf_matrix(y_test, y_pred, i), annot=True, cmap='YlGnBu')\n",
    "    heatmap.set_title(get_res[i], fontdict={'fontsize':14}, pad=10)\n",
    "    # set x-axis label and ticks. \n",
    "    # heatmap.set_xlabel(\"Predicted Diagnosis\", fontsize=10, labelpad=10)\n",
    "    # heatmap.xaxis.set_ticklabels(['Positive', 'Negative'])\n",
    "\n",
    "    # set y-axis label and ticks\n",
    "    # heatmap.set_ylabel(\"Actual Diagnosis\", fontsize=10, labelpad=10)\n",
    "    # heatmap.yaxis.set_ticklabels(['Positive', 'Negative'])\n",
    "\n",
    "    plt.xlabel('Предсказанный класс')\n",
    "    plt.ylabel('Истинный класс')\n",
    "    plt.savefig(f\"{i}.png\", dpi=300)\n",
    "    plt.show()"
   ]
  },
  {
   "cell_type": "code",
   "execution_count": 31,
   "id": "2cbedfd6",
   "metadata": {
    "execution": {
     "iopub.execute_input": "2022-11-24T11:15:13.087478Z",
     "iopub.status.busy": "2022-11-24T11:15:13.087052Z",
     "iopub.status.idle": "2022-11-24T11:15:13.097008Z",
     "shell.execute_reply": "2022-11-24T11:15:13.095734Z"
    },
    "papermill": {
     "duration": 0.032218,
     "end_time": "2022-11-24T11:15:13.099466",
     "exception": false,
     "start_time": "2022-11-24T11:15:13.067248",
     "status": "completed"
    },
    "tags": []
   },
   "outputs": [
    {
     "data": {
      "text/plain": [
       "array([[963,  15],\n",
       "       [  8, 129]], dtype=int64)"
      ]
     },
     "execution_count": 31,
     "metadata": {},
     "output_type": "execute_result"
    }
   ],
   "source": [
    "from sklearn.metrics import confusion_matrix\n",
    "CM = confusion_matrix(y_test, y_pred)\n",
    "CM"
   ]
  }
 ],
 "metadata": {
  "kernelspec": {
   "display_name": "Python 3",
   "language": "python",
   "name": "python3"
  },
  "language_info": {
   "codemirror_mode": {
    "name": "ipython",
    "version": 3
   },
   "file_extension": ".py",
   "mimetype": "text/x-python",
   "name": "python",
   "nbconvert_exporter": "python",
   "pygments_lexer": "ipython3",
   "version": "3.9.13"
  },
  "papermill": {
   "default_parameters": {},
   "duration": 215.356668,
   "end_time": "2022-11-24T11:15:14.379897",
   "environment_variables": {},
   "exception": null,
   "input_path": "__notebook__.ipynb",
   "output_path": "__notebook__.ipynb",
   "parameters": {},
   "start_time": "2022-11-24T11:11:39.023229",
   "version": "2.3.4"
  },
  "vscode": {
   "interpreter": {
    "hash": "884983ba1bb2b5d986516bbd7d72ebed7b4e1669a31c2befd5e7c46f3aff22c9"
   }
  }
 },
 "nbformat": 4,
 "nbformat_minor": 5
}
